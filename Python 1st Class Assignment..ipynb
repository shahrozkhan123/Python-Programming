{
 "cells": [
  {
   "cell_type": "code",
   "execution_count": 13,
   "metadata": {},
   "outputs": [
    {
     "name": "stdout",
     "output_type": "stream",
     "text": [
      "Twinkle, twinkle, little star \n",
      "      How I wonder what you are!\n",
      "            Up above the world so high,\n",
      "            Like a diamond in the sky.\n",
      "Twinkle, twinkle, little star,\n",
      "      How I wonder what you are\n"
     ]
    }
   ],
   "source": [
    "print(\"Twinkle, twinkle, little star \\n      How I wonder what you are!\\n            Up above the world so high,\\n            Like a diamond in the sky.\\nTwinkle, twinkle, little star,\\n      How I wonder what you are\")\n"
   ]
  },
  {
   "cell_type": "code",
   "execution_count": 6,
   "metadata": {},
   "outputs": [
    {
     "name": "stdout",
     "output_type": "stream",
     "text": [
      "3.7.4\n"
     ]
    }
   ],
   "source": [
    "\n",
    "\n",
    "import platform\n",
    "print(platform.python_version())"
   ]
  },
  {
   "cell_type": "code",
   "execution_count": 7,
   "metadata": {},
   "outputs": [
    {
     "name": "stdout",
     "output_type": "stream",
     "text": [
      "date and time = 03/11/2019 19:04:31\n"
     ]
    }
   ],
   "source": [
    "now = datetime.now()\n",
    "from datetime import datetime\n",
    "dt_string = now.strftime(\"%d/%m/%Y %H:%M:%S\")\n",
    "print(\"date and time =\", dt_string)"
   ]
  },
  {
   "cell_type": "code",
   "execution_count": 8,
   "metadata": {},
   "outputs": [
    {
     "name": "stdout",
     "output_type": "stream",
     "text": [
      "Radius=13\n",
      "Area is 530.9979999999999\n"
     ]
    }
   ],
   "source": [
    "pie=3.142\n",
    "radius=int(input(\"Radius=\"))\n",
    "Area=pie*(radius*radius)\n",
    "print(\"Area is\" ,Area)\n"
   ]
  },
  {
   "cell_type": "code",
   "execution_count": 14,
   "metadata": {},
   "outputs": [
    {
     "name": "stdout",
     "output_type": "stream",
     "text": [
      "Enter Firstname: sam\n",
      "Enter Lastname: khan\n",
      "khan sam\n"
     ]
    }
   ],
   "source": [
    "firstName = input(\"Enter Firstname: \");\n",
    "lastName = input(\"Enter Lastname: \")\n",
    "ultaName = lastName + \" \" + firstName ;\n",
    "print(ultaName)"
   ]
  },
  {
   "cell_type": "code",
   "execution_count": 12,
   "metadata": {},
   "outputs": [
    {
     "name": "stdout",
     "output_type": "stream",
     "text": [
      "Enter First Value=20\n",
      "Enter Second Value=60\n",
      "Result:  80\n"
     ]
    }
   ],
   "source": [
    "input1 =  int(input(\"Enter First Value=\"))\n",
    "input2 =  int(input(\"Enter Second Value=\"))\n",
    "add = input1 + input2\n",
    "print(\"Result: \" ,add)"
   ]
  },
  {
   "cell_type": "code",
   "execution_count": null,
   "metadata": {},
   "outputs": [],
   "source": []
  }
 ],
 "metadata": {
  "kernelspec": {
   "display_name": "Python 3",
   "language": "python",
   "name": "python3"
  },
  "language_info": {
   "codemirror_mode": {
    "name": "ipython",
    "version": 3
   },
   "file_extension": ".py",
   "mimetype": "text/x-python",
   "name": "python",
   "nbconvert_exporter": "python",
   "pygments_lexer": "ipython3",
   "version": "3.7.4"
  }
 },
 "nbformat": 4,
 "nbformat_minor": 2
}
